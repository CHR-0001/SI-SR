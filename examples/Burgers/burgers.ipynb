{
 "cells": [
  {
   "cell_type": "code",
   "execution_count": 1,
   "id": "264de2e3",
   "metadata": {},
   "outputs": [],
   "source": [
    "import torch\n",
    "import torch.nn as nn\n",
    "import numpy as np\n",
    "import matplotlib.pyplot as plt\n",
    "import matplotlib.style as style\n",
    "import sympy\n",
    "import sys\n",
    "import os\n",
    "sys.path.append(os.path.abspath(os.path.join(os.getcwd(),'../..')))\n",
    "\n",
    "from Rmse_loss import rmse_loss \n",
    "from All import all0\n",
    "from Select import select\n",
    "from Train_fun import train_fun\n",
    "\n",
    "\n",
    "torch.set_default_dtype(torch.float32)\n",
    "device = torch.device('cuda:0')\n",
    "np.set_printoptions(suppress=True)"
   ]
  },
  {
   "cell_type": "code",
   "execution_count": 2,
   "id": "fe1c97b9",
   "metadata": {},
   "outputs": [],
   "source": [
    "class FiveNet_sin(nn.Module):\n",
    "    def __init__(self, ni):\n",
    "        super().__init__()\n",
    "        self.linear1 = nn.Linear(ni, 128)\n",
    "        self.linear2 = nn.Linear(128,128)\n",
    "        self.linear3 = nn.Linear(128, 64)\n",
    "        self.linear4 = nn.Linear(64,64)\n",
    "        self.linear5 = nn.Linear(64,1)\n",
    "\n",
    "    def forward(self, x):\n",
    "        x = torch.sin(self.linear1(x))\n",
    "        x = torch.sin(self.linear2(x))\n",
    "        x = torch.sin(self.linear3(x))\n",
    "        x = torch.sin(self.linear4(x))\n",
    "        x = self.linear5(x)\n",
    "        return x"
   ]
  },
  {
   "cell_type": "code",
   "execution_count": 3,
   "id": "dbe704d2",
   "metadata": {},
   "outputs": [],
   "source": [
    "def diff_burgers(net,cor_train):\n",
    "    cache = np.zeros((1,6))\n",
    "    pts = cor_train.clone().detach().to(device)\n",
    "    pts.requires_grad_(True)\n",
    "    n_iter = len(pts)//10000\n",
    "    for i in range(n_iter+1):\n",
    "        pts0 = pts[10000*i:10000*(i+1)]\n",
    "        outs = net(pts0)\n",
    "        grad = torch.autograd.grad(outs, pts0, grad_outputs=torch.ones_like(outs), create_graph=True)[0]\n",
    "        ut_t = (grad[:,0]).reshape(-1,1)\n",
    "        ux_t = (grad[:,1]).reshape(-1,1)\n",
    "        uxx_t  = ((torch.autograd.grad(ux_t, pts0, grad_outputs=torch.ones_like(outs), \n",
    "                create_graph=True)[0])[:,1]).reshape(-1,1)\n",
    "        uxxx_t  = ((torch.autograd.grad(uxx_t, pts0, grad_outputs=torch.ones_like(outs), \n",
    "                create_graph=True)[0])[:,1]).reshape(-1,1)\n",
    "        uxxxx_t  = ((torch.autograd.grad(uxxx_t, pts0, grad_outputs=torch.ones_like(outs), \n",
    "                create_graph=True)[0])[:,1]).reshape(-1,1)\n",
    "\n",
    "        u_pred = outs.cpu().detach().numpy()\n",
    "        ut = ut_t.cpu().detach().numpy()\n",
    "        ux = ux_t.cpu().detach().numpy()\n",
    "        uxx = uxx_t.cpu().detach().numpy()\n",
    "        uxxx = uxxx_t.cpu().detach().numpy()\n",
    "        uxxxx = uxxxx_t.cpu().detach().numpy()\n",
    "        del ut_t, ux_t, uxx_t, uxxx_t, uxxxx_t, outs\n",
    "        torch.cuda.empty_cache()\n",
    "        cache = np.vstack((cache,np.hstack((u_pred,ux,uxx,uxxx,uxxxx,ut))))\n",
    "    return cache[1:]"
   ]
  },
  {
   "cell_type": "code",
   "execution_count": 4,
   "id": "4b05ea0f",
   "metadata": {},
   "outputs": [],
   "source": [
    "m = 201; n = 501\n",
    "t = np.linspace(2,8,m); x = np.linspace(-8,8,n)\n",
    "T,X = np.meshgrid(t,x) \n",
    "zz = -4*X/(X**2+2*T)\n",
    "t = T.reshape(-1,1); x = X.reshape(-1,1)\n",
    "u = -0.8*x/(x**2+0.4*t)\n",
    "data = np.hstack((t,x,u)).astype('float32')\n",
    "data = data[data[:,0]//0.03%3==0]; data = data[data[:,1]//0.012%7==0]"
   ]
  },
  {
   "cell_type": "code",
   "execution_count": 5,
   "id": "ed611810-6cf5-4d91-af72-b37881b0c2e4",
   "metadata": {},
   "outputs": [],
   "source": [
    "per = 0.2\n",
    "np.random.seed(0)\n",
    "u_clean = data[:,-1].reshape(-1,1)\n",
    "u_noise = u_clean + per*np.std(u_clean)*np.random.randn(u_clean.shape[0],u_clean.shape[1])\n",
    "u_noise = u_noise.astype('float32')\n",
    "cor_train = torch.from_numpy(data[:,:-1])\n",
    "u_train = torch.from_numpy(u_noise).reshape(-1,1)"
   ]
  },
  {
   "cell_type": "code",
   "execution_count": 6,
   "id": "84ea938c",
   "metadata": {},
   "outputs": [],
   "source": [
    "net = FiveNet_sin(2).to(device)\n",
    "try:\n",
    "    net.load_state_dict(torch.load('net/net_{}'.format(per)))\n",
    "except:\n",
    "    train_fun(net,cor_train,u_train,N_red_lr=4,epochs=5000,lr=0.001)\n",
    "    torch.save(net.state_dict(),'net/net_{}'.format(per))"
   ]
  },
  {
   "cell_type": "code",
   "execution_count": 7,
   "id": "aa8a5528",
   "metadata": {},
   "outputs": [],
   "source": [
    "cache = diff_burgers(net,cor_train)\n",
    "u_pred = cache[:,0].reshape(-1,1)\n",
    "ux = cache[:,1].reshape(-1,1)\n",
    "uxx = cache[:,2].reshape(-1,1)\n",
    "uxxx = cache[:,3].reshape(-1,1)\n",
    "uxxxx = cache[:,4].reshape(-1,1)\n",
    "ut = cache[:,-1].reshape(-1,1)"
   ]
  },
  {
   "cell_type": "code",
   "execution_count": 8,
   "id": "6bbf8eeb-b868-4497-9a6c-b0c1e19d8d21",
   "metadata": {},
   "outputs": [
    {
     "data": {
      "text/plain": [
       "tensor(0.4957, device='cuda:0', dtype=torch.float64)"
      ]
     },
     "execution_count": 8,
     "metadata": {},
     "output_type": "execute_result"
    }
   ],
   "source": [
    "rmse_loss(-u_pred*ux+0.2*uxx,ut)"
   ]
  },
  {
   "cell_type": "code",
   "execution_count": 9,
   "id": "146ed4ca",
   "metadata": {},
   "outputs": [
    {
     "name": "stderr",
     "output_type": "stream",
     "text": [
      "/home/chr/anaconda3/envs/pysren/lib/python3.11/site-packages/pysr/sr.py:1346: UserWarning: Note: it looks like you are running in Jupyter. The progress bar will be turned off.\n",
      "  warnings.warn(\n",
      "/home/chr/anaconda3/envs/pysren/lib/python3.11/site-packages/pysr/julia_helpers.py:162: UserWarning: `torch` was loaded before the Julia instance started. This may cause a segfault when running `PySRRegressor.fit`. To avoid this, please run `pysr.julia_helpers.init_julia()` *before* importing `torch`. For updates, see https://github.com/pytorch/pytorch/issues/78829\n",
      "  warnings.warn(\n"
     ]
    },
    {
     "name": "stdout",
     "output_type": "stream",
     "text": [
      "Compiling Julia backend...\n"
     ]
    },
    {
     "name": "stderr",
     "output_type": "stream",
     "text": [
      "/home/chr/anaconda3/envs/pysren/lib/python3.11/site-packages/pysr/julia_helpers.py:208: UserWarning: Your system's Python library is static (e.g., conda), so precompilation will be turned off. For a dynamic library, try using `pyenv` and installing with `--enable-shared`: https://github.com/pyenv/pyenv/blob/master/plugins/python-build/README.md#building-with---enable-shared.\n",
      "  warnings.warn(\n"
     ]
    },
    {
     "name": "stdout",
     "output_type": "stream",
     "text": [
      "Started!\n",
      "tensor(0.4646, device='cuda:0', dtype=torch.float64)\n",
      "0 tensor(0.4918, device='cuda:0', dtype=torch.float64)\n",
      "1 tensor(0.4918, device='cuda:0', dtype=torch.float64)\n",
      "2 tensor(0.4918, device='cuda:0', dtype=torch.float64)\n",
      "3 tensor(0.4918, device='cuda:0', dtype=torch.float64)\n",
      "4 tensor(0.5767, device='cuda:0', dtype=torch.float64)\n",
      "[ 0.          0.          0.          0.          0.20078758  0.\n",
      "  0.         -1.00114524  0.          0.          0.09282723  0.\n",
      "  0.          0.          0.        ]\n",
      "[[0.         1.         0.02547313 0.02598108 0.00007076 0.00872888]\n",
      " [0.         2.         0.04066366 0.03202525 0.00687661 0.00467059]\n",
      " [0.         3.         0.00912628 0.00912628 0.00403609 0.00403609]\n",
      " [0.         4.         0.02077015 0.02077015 0.00403609 0.00403609]\n",
      " [1.         2.         0.04325918 0.01810477 0.00691727 0.00472914]\n",
      " [1.         3.         0.04379302 0.04379302 0.00404296 0.00404296]\n",
      " [1.         4.         0.10712761 0.10712761 0.00404296 0.00404296]\n",
      " [2.         3.         0.05891413 0.05891413 0.00337843 0.00337843]\n",
      " [2.         4.         0.13759097 0.13759097 0.00337843 0.00337843]\n",
      " [3.         4.         0.         0.         0.         0.        ]]\n",
      "[[0.         1.         0.00007076 0.0081068  2.        ]\n",
      " [0.         2.         0.00467059 0.67919961 3.        ]\n",
      " [0.         3.         0.00403609 1.         2.        ]\n",
      " [0.         4.         0.00403609 1.         2.        ]\n",
      " [1.         2.         0.00472914 0.68367251 3.        ]\n",
      " [1.         3.         0.00404296 1.         2.        ]\n",
      " [1.         4.         0.00404296 1.         2.        ]\n",
      " [2.         3.         0.00337843 1.         2.        ]\n",
      " [2.         4.         0.00337843 1.         2.        ]\n",
      " [3.         4.         0.                inf 0.        ]]\n",
      "\n",
      "\n",
      "\n",
      "\n",
      "\n",
      "\n",
      "\n",
      "\n",
      "\n",
      "\n",
      "\n",
      "\n",
      "\n",
      "\n",
      "\n",
      "\n",
      "\n",
      "\n",
      "\n",
      "\n",
      "found multiply symmetry between 0 and 1\n",
      "\n",
      "\n",
      "\n",
      "\n",
      "\n",
      "\n",
      "\n",
      "\n",
      "\n",
      "\n",
      "\n",
      "\n",
      "\n",
      "\n",
      "\n",
      "\n",
      "\n",
      "\n",
      "\n",
      "\n"
     ]
    },
    {
     "name": "stderr",
     "output_type": "stream",
     "text": [
      "/home/chr/SI-SR/Symmetry.py:196: RuntimeWarning: invalid value encountered in divide\n",
      "  results[:, 2:] = results[:, 2:] / (np.sort(results[:, 2:])[:, 1].reshape(-1, 1))\n",
      "/home/chr/anaconda3/envs/pysren/lib/python3.11/site-packages/pysr/sr.py:1346: UserWarning: Note: it looks like you are running in Jupyter. The progress bar will be turned off.\n",
      "  warnings.warn(\n"
     ]
    },
    {
     "name": "stdout",
     "output_type": "stream",
     "text": [
      "Started!\n",
      "[-0.15601011 -0.38251713  0.07048345  0.07349271  0.07406693]\n",
      "tensor(0.4866, device='cuda:0', dtype=torch.float64)\n",
      "0 tensor(0.4928, device='cuda:0', dtype=torch.float64)\n",
      "1 tensor(0.6890, device='cuda:0', dtype=torch.float64)\n",
      "2 tensor(0.9472, device='cuda:0', dtype=torch.float64)\n",
      "3 tensor(0.4928, device='cuda:0', dtype=torch.float64)\n",
      "[ 0.         -1.02807955  0.21111943  0.          0.        ]\n",
      "[[0.         1.         0.11423203 0.07530914 0.0071697  0.00487184]\n",
      " [0.         2.         0.2238679  0.2238679  0.00415173 0.00415173]\n",
      " [0.         3.         0.62179736 0.62179736 0.00415173 0.00415173]\n",
      " [1.         2.         0.06118995 0.06118995 0.00349395 0.00349395]\n",
      " [1.         3.         0.14290604 0.14290604 0.00349395 0.00349395]\n",
      " [2.         3.         0.         0.         0.         0.        ]]\n",
      "[[0.         1.         0.00487184 0.67950368 3.        ]\n",
      " [0.         2.         0.00415173 1.         2.        ]\n",
      " [0.         3.         0.00415173 1.         2.        ]\n",
      " [1.         2.         0.00349395 1.         2.        ]\n",
      " [1.         3.         0.00349395 1.         2.        ]\n",
      " [2.         3.         0.                inf 0.        ]]\n",
      "\n",
      "\n",
      "\n",
      "\n",
      "\n",
      "\n",
      "\n",
      "\n",
      "\n",
      "\n",
      "\n",
      "\n",
      "\n",
      "\n",
      "\n",
      "\n",
      "\n",
      "\n",
      "\n",
      "\n",
      "found divide symmetry between 0 and 1\n",
      "\n",
      "\n",
      "\n",
      "\n",
      "\n",
      "\n",
      "\n",
      "\n",
      "\n",
      "\n",
      "\n",
      "\n",
      "\n",
      "\n",
      "\n",
      "\n",
      "\n",
      "\n",
      "\n",
      "\n"
     ]
    },
    {
     "name": "stderr",
     "output_type": "stream",
     "text": [
      "/home/chr/SI-SR/Symmetry.py:196: RuntimeWarning: invalid value encountered in divide\n",
      "  results[:, 2:] = results[:, 2:] / (np.sort(results[:, 2:])[:, 1].reshape(-1, 1))\n",
      "/home/chr/anaconda3/envs/pysren/lib/python3.11/site-packages/pysr/sr.py:1346: UserWarning: Note: it looks like you are running in Jupyter. The progress bar will be turned off.\n",
      "  warnings.warn(\n"
     ]
    },
    {
     "name": "stdout",
     "output_type": "stream",
     "text": [
      "Started!\n",
      "[0.97483317 2.26295912 2.22413385 1.79063243 1.68367796 1.05939307]\n"
     ]
    }
   ],
   "source": [
    "feature = np.hstack((u_pred,ux,uxx,uxxx,uxxxx,ut))\n",
    "LC,exp_list,exp = all0('result_{}.txt'.format(per),feature,state=1,\n",
    "                              data_points=500,niterations=100,tol=0.05)"
   ]
  },
  {
   "cell_type": "code",
   "execution_count": 10,
   "id": "e80c60d0-9eee-490e-8371-44ed450af3a5",
   "metadata": {},
   "outputs": [
    {
     "name": "stdout",
     "output_type": "stream",
     "text": [
      "[ 1  1  1  1 -1 -1 -1 -1 -1 -1 -1]\n",
      "[ 1  1 -1 -1 -1 -1 -1 -1 -1 -1]\n",
      "[-1 -1 -1 -1 -1 -1 -1 -1 -1]\n"
     ]
    },
    {
     "data": {
      "text/latex": [
       "$\\displaystyle - x_{0} + 0.2107476 x_{1}$"
      ],
      "text/plain": [
       "-x0 + 0.2107476*x1"
      ]
     },
     "execution_count": 10,
     "metadata": {},
     "output_type": "execute_result"
    }
   ],
   "source": [
    "k = select(LC,0.1)\n",
    "exp_list[k]"
   ]
  }
 ],
 "metadata": {
  "kernelspec": {
   "display_name": "Python 3 (ipykernel)",
   "language": "python",
   "name": "python3"
  },
  "language_info": {
   "codemirror_mode": {
    "name": "ipython",
    "version": 3
   },
   "file_extension": ".py",
   "mimetype": "text/x-python",
   "name": "python",
   "nbconvert_exporter": "python",
   "pygments_lexer": "ipython3",
   "version": "3.11.5"
  }
 },
 "nbformat": 4,
 "nbformat_minor": 5
}
